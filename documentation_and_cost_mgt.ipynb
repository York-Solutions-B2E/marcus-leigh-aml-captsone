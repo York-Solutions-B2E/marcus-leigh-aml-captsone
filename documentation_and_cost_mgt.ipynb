{
 "cells": [
  {
   "cell_type": "markdown",
   "id": "e852d229-ac15-4fc7-8675-77bfc072a9c7",
   "metadata": {},
   "source": [
    "Project Documenation and Cost Management\n",
    "\n",
    "Project Management and Documentation:\n",
    "\n",
    "1. Manage code using Git and maintain version control.\n",
    "2. Create a well-organized repository following the naming convention specied in the requirements\n",
    "3. Document all code, decisions, and methodologies used throughout the project, the more the better...\n",
    "4. Generate and analysis report covering EDA, data pre-processing, feature selection, model choice, evaluation metrics, model tuning, and performance monitoring"
   ]
  },
  {
   "cell_type": "markdown",
   "id": "2def42b1-535c-4110-8da3-edd30c63c181",
   "metadata": {},
   "source": [
    "\n",
    "\n",
    "Cost Management:\n",
    "\n",
    "Keep track of the resources used during the project, inlcuding compute resources fro training and deploying the model\n",
    "Analyse the project cost and identify opportunities for optimization\n",
    "Docuemtn the total cost to deploy the model, including any additional cost monitoring or resource optimization done"
   ]
  }
 ],
 "metadata": {
  "environment": {
   "kernel": "conda-root-py",
   "name": "workbench-notebooks.m115",
   "type": "gcloud",
   "uri": "gcr.io/deeplearning-platform-release/workbench-notebooks:m115"
  },
  "kernelspec": {
   "display_name": "Python 3 (ipykernel) (Local)",
   "language": "python",
   "name": "conda-root-py"
  },
  "language_info": {
   "codemirror_mode": {
    "name": "ipython",
    "version": 3
   },
   "file_extension": ".py",
   "mimetype": "text/x-python",
   "name": "python",
   "nbconvert_exporter": "python",
   "pygments_lexer": "ipython3",
   "version": "3.10.13"
  }
 },
 "nbformat": 4,
 "nbformat_minor": 5
}
